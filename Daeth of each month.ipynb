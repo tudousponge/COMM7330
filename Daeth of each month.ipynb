{
 "cells": [
  {
   "cell_type": "markdown",
   "metadata": {},
   "source": [
    "\n",
    "'series通过索引进行排序：'\n",
    "\n",
    "series.sort_index()\n",
    "\n",
    "'series通过值进行排序:'\n",
    "\n",
    "series.sort_values()\n",
    "\n",
    "'dataframe根据行索引进行降序排序（排序时默认升序，调节ascending参数）：'\n",
    "\n",
    "frame.sort_index(ascending=False)\n",
    "\n",
    "'dataframe根据列索引进行排序：'\n",
    "\n",
    "frame.sort_index(axis=1)\n",
    "\n",
    "'dataframe根据值进行排序：'\n",
    "\n",
    "frame.sort_values(by='a')\n",
    "\n",
    "'通过多个索引进行排序：'\n",
    "\n"
   ]
  },
  {
   "cell_type": "code",
   "execution_count": 1,
   "metadata": {},
   "outputs": [],
   "source": [
    "%matplotlib inline\n",
    "import pandas as pd\n",
    "import numpy as np\n",
    "import matplotlib.pyplot as plt\n",
    "import seaborn as sns"
   ]
  },
  {
   "cell_type": "code",
   "execution_count": 14,
   "metadata": {},
   "outputs": [],
   "source": [
    "Mig = pd.read_csv('../data/' + 'MissingMigrants-Global-2019-03-29T18-36-07.csv')"
   ]
  },
  {
   "cell_type": "code",
   "execution_count": 65,
   "metadata": {},
   "outputs": [],
   "source": [
    "MonList = []\n",
    "for index,row in Mig.iterrows():\n",
    "    if row['Reported Month'] == 'Jan':\n",
    "        MonList.append(1)\n",
    "    elif row['Reported Month'] == 'Feb':\n",
    "        MonList.append(2)\n",
    "    elif row['Reported Month'] == 'Mar':\n",
    "        MonList.append(3)\n",
    "    elif row['Reported Month'] == 'Apr':\n",
    "        MonList.append(4)\n",
    "    elif row['Reported Month'] == 'May':\n",
    "        MonList.append(5)\n",
    "    elif row['Reported Month'] == 'Jun':\n",
    "        MonList.append(6)\n",
    "    elif row['Reported Month'] == 'Jul':\n",
    "        MonList.append(7)\n",
    "    elif row['Reported Month'] == 'Aug':\n",
    "        MonList.append(8)\n",
    "    elif row['Reported Month'] == 'Sep':\n",
    "        MonList.append(9)\n",
    "    elif row['Reported Month'] == 'Oct':\n",
    "        MonList.append(10)\n",
    "    elif row['Reported Month'] == 'Nov':\n",
    "        MonList.append(11)\n",
    "    elif row['Reported Month'] == 'Dec':\n",
    "        MonList.append(12)\n",
    "    else:\n",
    "        continue"
   ]
  },
  {
   "cell_type": "code",
   "execution_count": null,
   "metadata": {},
   "outputs": [],
   "source": [
    "Mig['MonList'] = MonList  # add num of Month , easy to sort"
   ]
  },
  {
   "cell_type": "code",
   "execution_count": 37,
   "metadata": {},
   "outputs": [],
   "source": [
    "MigDeath = Mig.groupby(by = [\"Reported Month\",\"Reported Year\"]).sum().sort_values(by = 'Total Dead and Missing')[[\"Minimum Estimated Number of Missing\",'Total Dead and Missing','Number of Survivors','Number Dead']]\n",
    "MigDeath.to_csv('brige.csv')\n",
    "MigDeath = pd.read_csv('brige.csv')\n",
    "MigDeath = MigDeath.sort_values(by = \"NumMonth\")"
   ]
  },
  {
   "cell_type": "code",
   "execution_count": 49,
   "metadata": {},
   "outputs": [
    {
     "data": {
      "text/html": [
       "<div>\n",
       "<style scoped>\n",
       "    .dataframe tbody tr th:only-of-type {\n",
       "        vertical-align: middle;\n",
       "    }\n",
       "\n",
       "    .dataframe tbody tr th {\n",
       "        vertical-align: top;\n",
       "    }\n",
       "\n",
       "    .dataframe thead th {\n",
       "        text-align: right;\n",
       "    }\n",
       "</style>\n",
       "<table border=\"1\" class=\"dataframe\">\n",
       "  <thead>\n",
       "    <tr style=\"text-align: right;\">\n",
       "      <th></th>\n",
       "      <th>Reported Month</th>\n",
       "      <th>Reported Year</th>\n",
       "      <th>Minimum Estimated Number of Missing</th>\n",
       "      <th>Total Dead and Missing</th>\n",
       "      <th>Number of Survivors</th>\n",
       "      <th>Number Dead</th>\n",
       "      <th>NumMonth</th>\n",
       "    </tr>\n",
       "  </thead>\n",
       "  <tbody>\n",
       "    <tr>\n",
       "      <td>0</td>\n",
       "      <td>Jan</td>\n",
       "      <td>2014</td>\n",
       "      <td>0.0</td>\n",
       "      <td>27</td>\n",
       "      <td>4.0</td>\n",
       "      <td>27.0</td>\n",
       "      <td>1</td>\n",
       "    </tr>\n",
       "    <tr>\n",
       "      <td>38</td>\n",
       "      <td>Jan</td>\n",
       "      <td>2018</td>\n",
       "      <td>222.0</td>\n",
       "      <td>511</td>\n",
       "      <td>847.0</td>\n",
       "      <td>289.0</td>\n",
       "      <td>1</td>\n",
       "    </tr>\n",
       "    <tr>\n",
       "      <td>18</td>\n",
       "      <td>Jan</td>\n",
       "      <td>2019</td>\n",
       "      <td>197.0</td>\n",
       "      <td>343</td>\n",
       "      <td>651.0</td>\n",
       "      <td>146.0</td>\n",
       "      <td>1</td>\n",
       "    </tr>\n",
       "    <tr>\n",
       "      <td>41</td>\n",
       "      <td>Jan</td>\n",
       "      <td>2017</td>\n",
       "      <td>247.0</td>\n",
       "      <td>562</td>\n",
       "      <td>739.0</td>\n",
       "      <td>315.0</td>\n",
       "      <td>1</td>\n",
       "    </tr>\n",
       "    <tr>\n",
       "      <td>9</td>\n",
       "      <td>Jan</td>\n",
       "      <td>2015</td>\n",
       "      <td>107.0</td>\n",
       "      <td>209</td>\n",
       "      <td>669.0</td>\n",
       "      <td>102.0</td>\n",
       "      <td>1</td>\n",
       "    </tr>\n",
       "    <tr>\n",
       "      <td>...</td>\n",
       "      <td>...</td>\n",
       "      <td>...</td>\n",
       "      <td>...</td>\n",
       "      <td>...</td>\n",
       "      <td>...</td>\n",
       "      <td>...</td>\n",
       "      <td>...</td>\n",
       "    </tr>\n",
       "    <tr>\n",
       "      <td>49</td>\n",
       "      <td>Dec</td>\n",
       "      <td>2015</td>\n",
       "      <td>102.0</td>\n",
       "      <td>705</td>\n",
       "      <td>1355.0</td>\n",
       "      <td>603.0</td>\n",
       "      <td>12</td>\n",
       "    </tr>\n",
       "    <tr>\n",
       "      <td>47</td>\n",
       "      <td>Dec</td>\n",
       "      <td>2016</td>\n",
       "      <td>291.0</td>\n",
       "      <td>701</td>\n",
       "      <td>1128.0</td>\n",
       "      <td>410.0</td>\n",
       "      <td>12</td>\n",
       "    </tr>\n",
       "    <tr>\n",
       "      <td>57</td>\n",
       "      <td>Dec</td>\n",
       "      <td>2014</td>\n",
       "      <td>818.0</td>\n",
       "      <td>918</td>\n",
       "      <td>126.0</td>\n",
       "      <td>100.0</td>\n",
       "      <td>12</td>\n",
       "    </tr>\n",
       "    <tr>\n",
       "      <td>6</td>\n",
       "      <td>Dec</td>\n",
       "      <td>2018</td>\n",
       "      <td>62.0</td>\n",
       "      <td>179</td>\n",
       "      <td>430.0</td>\n",
       "      <td>117.0</td>\n",
       "      <td>12</td>\n",
       "    </tr>\n",
       "    <tr>\n",
       "      <td>20</td>\n",
       "      <td>Dec</td>\n",
       "      <td>2017</td>\n",
       "      <td>25.0</td>\n",
       "      <td>346</td>\n",
       "      <td>265.0</td>\n",
       "      <td>321.0</td>\n",
       "      <td>12</td>\n",
       "    </tr>\n",
       "  </tbody>\n",
       "</table>\n",
       "<p>63 rows × 7 columns</p>\n",
       "</div>"
      ],
      "text/plain": [
       "   Reported Month  Reported Year  Minimum Estimated Number of Missing  \\\n",
       "0             Jan           2014                                  0.0   \n",
       "38            Jan           2018                                222.0   \n",
       "18            Jan           2019                                197.0   \n",
       "41            Jan           2017                                247.0   \n",
       "9             Jan           2015                                107.0   \n",
       "..            ...            ...                                  ...   \n",
       "49            Dec           2015                                102.0   \n",
       "47            Dec           2016                                291.0   \n",
       "57            Dec           2014                                818.0   \n",
       "6             Dec           2018                                 62.0   \n",
       "20            Dec           2017                                 25.0   \n",
       "\n",
       "    Total Dead and Missing  Number of Survivors  Number Dead  NumMonth  \n",
       "0                       27                  4.0         27.0         1  \n",
       "38                     511                847.0        289.0         1  \n",
       "18                     343                651.0        146.0         1  \n",
       "41                     562                739.0        315.0         1  \n",
       "9                      209                669.0        102.0         1  \n",
       "..                     ...                  ...          ...       ...  \n",
       "49                     705               1355.0        603.0        12  \n",
       "47                     701               1128.0        410.0        12  \n",
       "57                     918                126.0        100.0        12  \n",
       "6                      179                430.0        117.0        12  \n",
       "20                     346                265.0        321.0        12  \n",
       "\n",
       "[63 rows x 7 columns]"
      ]
     },
     "execution_count": 49,
     "metadata": {},
     "output_type": "execute_result"
    }
   ],
   "source": [
    "MigDeath"
   ]
  },
  {
   "cell_type": "code",
   "execution_count": 67,
   "metadata": {},
   "outputs": [
    {
     "data": {
      "image/png": "[encoded data removed]",
      "text/plain": [
       "<Figure size 1440x936 with 6 Axes>"
      ]
     },
     "metadata": {
      "needs_background": "light"
     },
     "output_type": "display_data"
    }
   ],
   "source": [
    "MigDeath_Draw = MigDeath.groupby(by = 'Reported Year').size()\n",
    "\n",
    "fig = plt.figure(figsize=(20,13)) #create a new figure \n",
    "fig.subplots_adjust(hspace=0.25,wspace = 0.25)  # gaps between the figures \n",
    "n = 1 \n",
    "for year in MigDeath_Draw.index:\n",
    "    ax = fig.add_subplot(2,3,n)\n",
    "    ax.set_title('Migrants Death in each month of ' + str(year))\n",
    "    x = MigDeath[MigDeath['Reported Year'] == year]['Reported Month']\n",
    "    y = MigDeath[MigDeath['Reported Year'] == year]['Total Dead and Missing']\n",
    "    ax.bar(x,y)\n",
    "    ax.set_xlabel('Month')\n",
    "    ax.set_ylabel('Total Dead and Missing')\n",
    "    #plt.xticks(rotation = 90) \n",
    "    n += 1\n",
    "\n",
    "plt.show();"
   ]
  },
  {
   "cell_type": "code",
   "execution_count": null,
   "metadata": {},
   "outputs": [],
   "source": [
    "Mig.head(5)"
   ]
  },
  {
   "cell_type": "code",
   "execution_count": 68,
   "metadata": {},
   "outputs": [],
   "source": [
    "GroupBySum = Mig.groupby('Cause of Death').sum()"
   ]
  },
  {
   "cell_type": "code",
   "execution_count": 69,
   "metadata": {},
   "outputs": [
    {
     "data": {
      "text/plain": [
       "Cause of Death\n",
       "Accident (non-vehicle)                      3\n",
       "Asphyxiation                               73\n",
       "Asphyxiation, Drowning                     33\n",
       "Attacked by Apache helicopter              42\n",
       "Burned                                     16\n",
       "                                           ..\n",
       "Vehicle Accident, Shot, Stabbed             3\n",
       "Violence                                   78\n",
       "Violence while attempting to board boat     2\n",
       "Violence, Asphyxiation, Drowning           29\n",
       "Violence, Rape                              2\n",
       "Name: Total Dead and Missing, Length: 233, dtype: int64"
      ]
     },
     "execution_count": 69,
     "metadata": {},
     "output_type": "execute_result"
    }
   ],
   "source": [
    "GroupBySum['Total Dead and Missing']"
   ]
  },
  {
   "cell_type": "code",
   "execution_count": 70,
   "metadata": {},
   "outputs": [],
   "source": [
    "DeathCause = GroupBySum['Total Dead and Missing']"
   ]
  },
  {
   "cell_type": "code",
   "execution_count": 13,
   "metadata": {},
   "outputs": [
    {
     "data": {
      "text/plain": [
       "Cause of Death\n",
       "Accident (non-vehicle)                      3\n",
       "Asphyxiation                               73\n",
       "Asphyxiation, Drowning                     33\n",
       "Attacked by Apache helicopter              42\n",
       "Burned                                     16\n",
       "                                           ..\n",
       "Vehicle Accident, Shot, Stabbed             3\n",
       "Violence                                   78\n",
       "Violence while attempting to board boat     2\n",
       "Violence, Asphyxiation, Drowning           29\n",
       "Violence, Rape                              2\n",
       "Name: Total Dead and Missing, Length: 233, dtype: int64"
      ]
     },
     "execution_count": 13,
     "metadata": {},
     "output_type": "execute_result"
    }
   ],
   "source": [
    "DeathCause"
   ]
  },
  {
   "cell_type": "code",
   "execution_count": null,
   "metadata": {},
   "outputs": [],
   "source": []
  }
 ],
 "metadata": {
  "kernelspec": {
   "display_name": "Python 3",
   "language": "python",
   "name": "python3"
  },
  "language_info": {
   "codemirror_mode": {
    "name": "ipython",
    "version": 3
   },
   "file_extension": ".py",
   "mimetype": "text/x-python",
   "name": "python",
   "nbconvert_exporter": "python",
   "pygments_lexer": "ipython3",
   "version": "3.7.4"
  }
 },
 "nbformat": 4,
 "nbformat_minor": 2
}
